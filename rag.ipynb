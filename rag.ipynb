{
  "cells": [
    {
      "cell_type": "markdown",
      "source": [
        "## Installing requirements & cloning repo"
      ],
      "metadata": {
        "id": "7qkOpMx75M7a"
      }
    },
    {
      "cell_type": "code",
      "source": [
        "!git clone https://github.com/xidic81/rag.git\n",
        "!pip install -r /content/rag/requirements.txt"
      ],
      "metadata": {
        "colab": {
          "base_uri": "https://localhost:8080/"
        },
        "id": "2w5iDvxKle_P",
        "outputId": "62442e5c-cd8e-4d32-c578-6c47d66e9883"
      },
      "execution_count": 2,
      "outputs": [
        {
          "output_type": "stream",
          "name": "stdout",
          "text": [
            "Archive:  /content/src.zip\n",
            "   creating: src/\n",
            "  inflating: src/cat-facts.txt       \n",
            "  inflating: src/main.py             \n",
            " extracting: src/requirements.txt    \n",
            "  inflating: src/download.sh         \n",
            "   creating: src/.ipynb_checkpoints/\n"
          ]
        }
      ]
    },
    {
      "cell_type": "markdown",
      "source": [
        "# Please type your prompt"
      ],
      "metadata": {
        "id": "Z7gWs6jj5SX6"
      }
    },
    {
      "cell_type": "code",
      "source": [
        "!cd /content/rag && python3 main.py"
      ],
      "metadata": {
        "colab": {
          "base_uri": "https://localhost:8080/"
        },
        "id": "77edhF_Iu-mJ",
        "outputId": "1046f886-c527-4543-ca09-2b74d72da6c9"
      },
      "execution_count": 7,
      "outputs": [
        {
          "output_type": "stream",
          "name": "stdout",
          "text": [
            "2025-10-27 08:47:34.593767: E external/local_xla/xla/stream_executor/cuda/cuda_fft.cc:467] Unable to register cuFFT factory: Attempting to register factory for plugin cuFFT when one has already been registered\n",
            "WARNING: All log messages before absl::InitializeLog() is called are written to STDERR\n",
            "E0000 00:00:1761554854.613980   19995 cuda_dnn.cc:8579] Unable to register cuDNN factory: Attempting to register factory for plugin cuDNN when one has already been registered\n",
            "E0000 00:00:1761554854.621505   19995 cuda_blas.cc:1407] Unable to register cuBLAS factory: Attempting to register factory for plugin cuBLAS when one has already been registered\n",
            "W0000 00:00:1761554854.637198   19995 computation_placer.cc:177] computation placer already registered. Please check linkage and avoid linking the same target more than once.\n",
            "W0000 00:00:1761554854.637232   19995 computation_placer.cc:177] computation placer already registered. Please check linkage and avoid linking the same target more than once.\n",
            "W0000 00:00:1761554854.637236   19995 computation_placer.cc:177] computation placer already registered. Please check linkage and avoid linking the same target more than once.\n",
            "W0000 00:00:1761554854.637240   19995 computation_placer.cc:177] computation placer already registered. Please check linkage and avoid linking the same target more than once.\n",
            "2025-10-27 08:47:34.642387: I tensorflow/core/platform/cpu_feature_guard.cc:210] This TensorFlow binary is optimized to use available CPU instructions in performance-critical operations.\n",
            "To enable the following instructions: AVX2 FMA, in other operations, rebuild TensorFlow with the appropriate compiler flags.\n",
            "collections=[CollectionDescription(name='cat_facts')]\n",
            "Loaded 150 entries\n",
            "You're using a BertTokenizerFast tokenizer. Please note that with a fast tokenizer, using the `__call__` method is faster than using a method to encode the text followed by a call to the `pad` method to get a padded encoding.\n",
            "/content/src/main.py:31: DeprecationWarning: `recreate_collection` method is deprecated and will be removed in the future. Use `collection_exists` to check collection existence and `create_collection` instead.\n",
            "  client.recreate_collection(\n",
            "Embedding & uploading: 100% 150/150 [00:06<00:00, 23.58it/s]\n",
            "✅ Successfully added 150 chunks to Qdrant!\n",
            "`torch_dtype` is deprecated! Use `dtype` instead!\n",
            "Loading checkpoint shards: 100% 2/2 [00:58<00:00, 29.01s/it]\n",
            "The attention mask is not set and cannot be inferred from input because pad token is same as eos token. As a consequence, you may observe unexpected behavior. Please pass your input's `attention_mask` to obtain reliable results.\n",
            "I am an AI language model, DeepSeek Chat, developed by the Chinese company DeepSeek. I am designed to help answer users' questions, provide information, and engage in various conversations.\n",
            "/content/src/main.py:77: DeprecationWarning: `search` method is deprecated and will be removed in the future. Use `query_points` instead.\n",
            "  results = client.search(\n",
            "\n",
            "🔍 Top results:\n",
            "Score: 0.864 | Text: Researchers are unsure exactly how a cat purrs. Most veterinarians believe that a cat purrs by vibrating vocal folds deep in the throat. To do this, a muscle in the larynx opens and closes the air passage about 25 times per second.\n",
            "Score: 0.856 | Text: A cat almost never meows at another cat, mostly just humans. Cats typically will spit, purr, and hiss at other cats.\n",
            "Score: 0.844 | Text: Cats don’t have sweat glands over their bodies like humans do. Instead, they sweat only through their paws.\n",
            "Ask me a question: is cat cool?\n",
            "/content/src/main.py:92: DeprecationWarning: `search` method is deprecated and will be removed in the future. Use `query_points` instead.\n",
            "  results = client.search(\n",
            "\n",
            "🔍 Top results:\n",
            "Score: 0.864 | Text: Researchers are unsure exactly how a cat purrs. Most veterinarians believe that a cat purrs by vibrating vocal folds deep in the throat. To do this, a muscle in the larynx opens and closes the air passage about 25 times per second.\n",
            "Score: 0.856 | Text: A cat almost never meows at another cat, mostly just humans. Cats typically will spit, purr, and hiss at other cats.\n",
            "Score: 0.844 | Text: Cats don’t have sweat glands over their bodies like humans do. Instead, they sweat only through their paws.\n",
            "Score: 0.864 | Text: Researchers are unsure exactly how a cat purrs. Most veterinarians believe that a cat purrs by vibrating vocal folds deep in the throat. To do this, a muscle in the larynx opens and closes the air passage about 25 times per second.\n",
            "Score: 0.856 | Text: A cat almost never meows at another cat, mostly just humans. Cats typically will spit, purr, and hiss at other cats.\n",
            "Score: 0.844 | Text: Cats don’t have sweat glands over their bodies like humans do. Instead, they sweat only through their paws.\n",
            "THE OUTPUT FROM THE CHATBOT : \n",
            "Yes, cats are cool. They are known for their unique purring, ability to sweat through their paws, and their lack of interest in meowing to other cats, preferring instead to communicate with their body language and sounds such as spitting and hissing.\n"
          ]
        }
      ]
    }
  ],
  "metadata": {
    "colab": {
      "name": "Welcome To Colab",
      "provenance": [],
      "gpuType": "T4"
    },
    "kernelspec": {
      "display_name": "Python 3",
      "name": "python3"
    },
    "accelerator": "GPU"
  },
  "nbformat": 4,
  "nbformat_minor": 0
}